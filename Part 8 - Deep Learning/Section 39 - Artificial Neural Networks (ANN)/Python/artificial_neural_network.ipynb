{
 "cells": [
  {
   "cell_type": "markdown",
   "metadata": {
    "colab_type": "text",
    "id": "lP6JLo1tGNBg"
   },
   "source": [
    "# Artificial Neural Network"
   ]
  },
  {
   "cell_type": "markdown",
   "metadata": {
    "colab_type": "text",
    "id": "gWZyYmS_UE_L"
   },
   "source": [
    "### Importing the libraries"
   ]
  },
  {
   "cell_type": "code",
   "execution_count": 3,
   "metadata": {},
   "outputs": [],
   "source": [
    "import pandas as pd\n",
    "import numpy as np\n",
    "import tensorflow as tf"
   ]
  },
  {
   "cell_type": "code",
   "execution_count": 4,
   "metadata": {},
   "outputs": [
    {
     "data": {
      "text/plain": [
       "'1.14.0'"
      ]
     },
     "execution_count": 4,
     "metadata": {},
     "output_type": "execute_result"
    }
   ],
   "source": [
    "tf.__version__"
   ]
  },
  {
   "cell_type": "markdown",
   "metadata": {
    "colab_type": "text",
    "id": "1E0Q3aoKUCRX"
   },
   "source": [
    "## Part 1 - Data Preprocessing"
   ]
  },
  {
   "cell_type": "markdown",
   "metadata": {
    "colab_type": "text",
    "id": "cKWAkFVGUU0Z"
   },
   "source": [
    "### Importing the dataset"
   ]
  },
  {
   "cell_type": "code",
   "execution_count": 5,
   "metadata": {},
   "outputs": [],
   "source": [
    "dataset = pd.read_csv('Churn_Modelling.csv')\n",
    "X = dataset.iloc[:, 3:-1].values\n",
    "y = dataset.iloc[:, -1].values"
   ]
  },
  {
   "cell_type": "markdown",
   "metadata": {
    "colab_type": "text",
    "id": "N6bQ0UgSU-NJ"
   },
   "source": [
    "### Encoding categorical data"
   ]
  },
  {
   "cell_type": "markdown",
   "metadata": {
    "colab_type": "text",
    "id": "le5MJreAbW52"
   },
   "source": [
    "Label Encoding the \"Gender\" column"
   ]
  },
  {
   "cell_type": "code",
   "execution_count": 6,
   "metadata": {},
   "outputs": [],
   "source": [
    "from sklearn.preprocessing import LabelEncoder\n",
    "le = LabelEncoder()\n",
    "X[:, 2] = le.fit_transform(X[:, 2])"
   ]
  },
  {
   "cell_type": "markdown",
   "metadata": {
    "colab_type": "text",
    "id": "CUxGZezpbMcb"
   },
   "source": [
    "One Hot Encoding the \"Geography\" column"
   ]
  },
  {
   "cell_type": "code",
   "execution_count": 9,
   "metadata": {},
   "outputs": [],
   "source": [
    "from sklearn.compose import ColumnTransformer \n",
    "from sklearn.preprocessing import OneHotEncoder #Applied to column having many categories ie. France, Spain, Germany in this case\n",
    "ct = ColumnTransformer(transformers = [('encoder', OneHotEncoder(), [1])], remainder = 'passthrough')\n",
    "X = np.array(ct.fit_transform(X)) # COnverts the contries into vectors"
   ]
  },
  {
   "cell_type": "markdown",
   "metadata": {},
   "source": [
    "<h3>Splitting the dataset into test and train</h3>"
   ]
  },
  {
   "cell_type": "code",
   "execution_count": 10,
   "metadata": {},
   "outputs": [],
   "source": [
    "from sklearn.model_selection import train_test_split\n",
    "X_train, X_test, y_train, y_test = train_test_split(X, y, test_size = 0.2, random_state = 0)"
   ]
  },
  {
   "cell_type": "markdown",
   "metadata": {
    "colab_type": "text",
    "id": "RE_FcHyfV3TQ"
   },
   "source": [
    "### Feature Scaling"
   ]
  },
  {
   "cell_type": "code",
   "execution_count": 11,
   "metadata": {},
   "outputs": [],
   "source": [
    "from sklearn.preprocessing import StandardScaler\n",
    "sc = StandardScaler()\n",
    "X_train = sc.fit_transform(X_train)\n",
    "X_test = sc.transform(X_test)"
   ]
  },
  {
   "cell_type": "markdown",
   "metadata": {
    "colab_type": "text",
    "id": "-zfEzkRVXIwF"
   },
   "source": [
    "## Part 2 - Building the ANN"
   ]
  },
  {
   "cell_type": "markdown",
   "metadata": {
    "colab_type": "text",
    "id": "KvdeScabXtlB"
   },
   "source": [
    "### Initializing the ANN"
   ]
  },
  {
   "cell_type": "code",
   "execution_count": 12,
   "metadata": {},
   "outputs": [],
   "source": [
    "ann = tf.keras.models.Sequential()"
   ]
  },
  {
   "cell_type": "markdown",
   "metadata": {
    "colab_type": "text",
    "id": "rP6urV6SX7kS"
   },
   "source": [
    "### Adding the input layer and the first hidden layer"
   ]
  },
  {
   "cell_type": "code",
   "execution_count": 16,
   "metadata": {},
   "outputs": [],
   "source": [
    "ann.add(tf.keras.layers.Dense(units = 6, activation = 'relu'))"
   ]
  },
  {
   "cell_type": "markdown",
   "metadata": {
    "colab_type": "text",
    "id": "BELWAc_8YJze"
   },
   "source": [
    "### Adding the second hidden layer"
   ]
  },
  {
   "cell_type": "code",
   "execution_count": 17,
   "metadata": {},
   "outputs": [],
   "source": [
    "ann.add(tf.keras.layers.Dense(units = 6, activation = 'relu'))"
   ]
  },
  {
   "cell_type": "markdown",
   "metadata": {
    "colab_type": "text",
    "id": "OyNEe6RXYcU4"
   },
   "source": [
    "### Adding the output layer"
   ]
  },
  {
   "cell_type": "code",
   "execution_count": 18,
   "metadata": {},
   "outputs": [],
   "source": [
    "ann.add(tf.keras.layers.Dense(units = 1, activation = 'sigmoid'))"
   ]
  },
  {
   "cell_type": "markdown",
   "metadata": {
    "colab_type": "text",
    "id": "JT4u2S1_Y4WG"
   },
   "source": [
    "## Training the ANN"
   ]
  },
  {
   "cell_type": "markdown",
   "metadata": {
    "colab_type": "text",
    "id": "8GWlJChhY_ZI"
   },
   "source": [
    "### Compiling the ANN"
   ]
  },
  {
   "cell_type": "code",
   "execution_count": 19,
   "metadata": {},
   "outputs": [],
   "source": [
    "ann.compile(optimizer = 'adam', loss = 'binary_crossentropy', metrics = ['accuracy'])"
   ]
  },
  {
   "cell_type": "markdown",
   "metadata": {
    "colab_type": "text",
    "id": "0QR_G5u7ZLSM"
   },
   "source": [
    "### Training the ANN on the Training set"
   ]
  },
  {
   "cell_type": "code",
   "execution_count": 20,
   "metadata": {},
   "outputs": [
    {
     "name": "stdout",
     "output_type": "stream",
     "text": [
      "WARNING:tensorflow:From C:\\Users\\gaura\\anaconda3\\lib\\site-packages\\tensorflow\\python\\ops\\nn_impl.py:180: add_dispatch_support.<locals>.wrapper (from tensorflow.python.ops.array_ops) is deprecated and will be removed in a future version.\n",
      "Instructions for updating:\n",
      "Use tf.where in 2.0, which has the same broadcast rule as np.where\n",
      "Epoch 1/100\n",
      "8000/8000 [==============================] - 0s 54us/sample - loss: 0.6649 - acc: 0.7099\n",
      "Epoch 2/100\n",
      "8000/8000 [==============================] - 0s 30us/sample - loss: 0.6087 - acc: 0.7960\n",
      "Epoch 3/100\n",
      "8000/8000 [==============================] - 0s 29us/sample - loss: 0.5720 - acc: 0.7960\n",
      "Epoch 4/100\n",
      "8000/8000 [==============================] - 0s 28us/sample - loss: 0.5472 - acc: 0.7960\n",
      "Epoch 5/100\n",
      "8000/8000 [==============================] - 0s 30us/sample - loss: 0.5308 - acc: 0.7960\n",
      "Epoch 6/100\n",
      "8000/8000 [==============================] - 0s 35us/sample - loss: 0.5201 - acc: 0.7960\n",
      "Epoch 7/100\n",
      "8000/8000 [==============================] - 0s 34us/sample - loss: 0.5077 - acc: 0.7960\n",
      "Epoch 8/100\n",
      "8000/8000 [==============================] - 0s 29us/sample - loss: 0.4833 - acc: 0.7960\n",
      "Epoch 9/100\n",
      "8000/8000 [==============================] - 0s 31us/sample - loss: 0.4661 - acc: 0.8083\n",
      "Epoch 10/100\n",
      "8000/8000 [==============================] - 0s 32us/sample - loss: 0.4541 - acc: 0.8105\n",
      "Epoch 11/100\n",
      "8000/8000 [==============================] - 0s 34us/sample - loss: 0.4419 - acc: 0.8181\n",
      "Epoch 12/100\n",
      "8000/8000 [==============================] - 0s 30us/sample - loss: 0.4274 - acc: 0.8274\n",
      "Epoch 13/100\n",
      "8000/8000 [==============================] - 0s 30us/sample - loss: 0.4105 - acc: 0.8369\n",
      "Epoch 14/100\n",
      "8000/8000 [==============================] - 0s 34us/sample - loss: 0.3949 - acc: 0.8441\n",
      "Epoch 15/100\n",
      "8000/8000 [==============================] - 0s 32us/sample - loss: 0.3823 - acc: 0.8487\n",
      "Epoch 16/100\n",
      "8000/8000 [==============================] - 0s 30us/sample - loss: 0.3743 - acc: 0.8520\n",
      "Epoch 17/100\n",
      "8000/8000 [==============================] - 0s 31us/sample - loss: 0.3691 - acc: 0.8543\n",
      "Epoch 18/100\n",
      "8000/8000 [==============================] - 0s 30us/sample - loss: 0.3649 - acc: 0.8551\n",
      "Epoch 19/100\n",
      "8000/8000 [==============================] - 0s 29us/sample - loss: 0.3616 - acc: 0.8558\n",
      "Epoch 20/100\n",
      "8000/8000 [==============================] - 0s 29us/sample - loss: 0.3579 - acc: 0.8579\n",
      "Epoch 21/100\n",
      "8000/8000 [==============================] - 0s 34us/sample - loss: 0.3558 - acc: 0.8572\n",
      "Epoch 22/100\n",
      "8000/8000 [==============================] - 0s 32us/sample - loss: 0.3533 - acc: 0.8581\n",
      "Epoch 23/100\n",
      "8000/8000 [==============================] - 0s 29us/sample - loss: 0.3520 - acc: 0.8587\n",
      "Epoch 24/100\n",
      "8000/8000 [==============================] - 0s 30us/sample - loss: 0.3505 - acc: 0.8597\n",
      "Epoch 25/100\n",
      "8000/8000 [==============================] - 0s 33us/sample - loss: 0.3493 - acc: 0.8600\n",
      "Epoch 26/100\n",
      "8000/8000 [==============================] - 0s 32us/sample - loss: 0.3480 - acc: 0.8626\n",
      "Epoch 27/100\n",
      "8000/8000 [==============================] - 0s 36us/sample - loss: 0.3473 - acc: 0.8612\n",
      "Epoch 28/100\n",
      "8000/8000 [==============================] - 0s 37us/sample - loss: 0.3457 - acc: 0.8615\n",
      "Epoch 29/100\n",
      "8000/8000 [==============================] - 0s 35us/sample - loss: 0.3457 - acc: 0.8610\n",
      "Epoch 30/100\n",
      "8000/8000 [==============================] - 0s 37us/sample - loss: 0.3445 - acc: 0.8611\n",
      "Epoch 31/100\n",
      "8000/8000 [==============================] - 0s 34us/sample - loss: 0.3441 - acc: 0.8621\n",
      "Epoch 32/100\n",
      "8000/8000 [==============================] - 0s 28us/sample - loss: 0.3441 - acc: 0.8596\n",
      "Epoch 33/100\n",
      "8000/8000 [==============================] - 0s 29us/sample - loss: 0.3434 - acc: 0.8633\n",
      "Epoch 34/100\n",
      "8000/8000 [==============================] - 0s 29us/sample - loss: 0.3423 - acc: 0.8626\n",
      "Epoch 35/100\n",
      "8000/8000 [==============================] - 0s 29us/sample - loss: 0.3427 - acc: 0.8604\n",
      "Epoch 36/100\n",
      "8000/8000 [==============================] - 0s 30us/sample - loss: 0.3416 - acc: 0.8612\n",
      "Epoch 37/100\n",
      "8000/8000 [==============================] - 0s 29us/sample - loss: 0.3416 - acc: 0.8620\n",
      "Epoch 38/100\n",
      "8000/8000 [==============================] - 0s 29us/sample - loss: 0.3408 - acc: 0.8633\n",
      "Epoch 39/100\n",
      "8000/8000 [==============================] - 0s 35us/sample - loss: 0.3407 - acc: 0.8619\n",
      "Epoch 40/100\n",
      "8000/8000 [==============================] - 0s 29us/sample - loss: 0.3402 - acc: 0.8627\n",
      "Epoch 41/100\n",
      "8000/8000 [==============================] - 0s 29us/sample - loss: 0.3399 - acc: 0.8637\n",
      "Epoch 42/100\n",
      "8000/8000 [==============================] - 0s 37us/sample - loss: 0.3392 - acc: 0.8634\n",
      "Epoch 43/100\n",
      "8000/8000 [==============================] - 0s 32us/sample - loss: 0.3391 - acc: 0.8627\n",
      "Epoch 44/100\n",
      "8000/8000 [==============================] - 0s 30us/sample - loss: 0.3391 - acc: 0.8630\n",
      "Epoch 45/100\n",
      "8000/8000 [==============================] - 0s 29us/sample - loss: 0.3383 - acc: 0.8629\n",
      "Epoch 46/100\n",
      "8000/8000 [==============================] - 0s 29us/sample - loss: 0.3387 - acc: 0.8634\n",
      "Epoch 47/100\n",
      "8000/8000 [==============================] - 0s 33us/sample - loss: 0.3383 - acc: 0.8629\n",
      "Epoch 48/100\n",
      "8000/8000 [==============================] - 0s 31us/sample - loss: 0.3378 - acc: 0.8633\n",
      "Epoch 49/100\n",
      "8000/8000 [==============================] - 0s 29us/sample - loss: 0.3376 - acc: 0.8641\n",
      "Epoch 50/100\n",
      "8000/8000 [==============================] - 0s 28us/sample - loss: 0.3374 - acc: 0.8645\n",
      "Epoch 51/100\n",
      "8000/8000 [==============================] - 0s 28us/sample - loss: 0.3371 - acc: 0.8640\n",
      "Epoch 52/100\n",
      "8000/8000 [==============================] - 0s 30us/sample - loss: 0.3369 - acc: 0.8635\n",
      "Epoch 53/100\n",
      "8000/8000 [==============================] - 0s 30us/sample - loss: 0.3369 - acc: 0.8636\n",
      "Epoch 54/100\n",
      "8000/8000 [==============================] - 0s 30us/sample - loss: 0.3369 - acc: 0.8637\n",
      "Epoch 55/100\n",
      "8000/8000 [==============================] - 0s 31us/sample - loss: 0.3365 - acc: 0.8643\n",
      "Epoch 56/100\n",
      "8000/8000 [==============================] - 0s 31us/sample - loss: 0.3364 - acc: 0.8635\n",
      "Epoch 57/100\n",
      "8000/8000 [==============================] - 0s 30us/sample - loss: 0.3359 - acc: 0.8665\n",
      "Epoch 58/100\n",
      "8000/8000 [==============================] - 0s 28us/sample - loss: 0.3360 - acc: 0.8637\n",
      "Epoch 59/100\n",
      "8000/8000 [==============================] - 0s 30us/sample - loss: 0.3359 - acc: 0.8639\n",
      "Epoch 60/100\n",
      "8000/8000 [==============================] - 0s 30us/sample - loss: 0.3359 - acc: 0.8650\n",
      "Epoch 61/100\n",
      "8000/8000 [==============================] - 0s 31us/sample - loss: 0.3350 - acc: 0.8655\n",
      "Epoch 62/100\n",
      "8000/8000 [==============================] - 0s 29us/sample - loss: 0.3357 - acc: 0.8646\n",
      "Epoch 63/100\n",
      "8000/8000 [==============================] - 0s 29us/sample - loss: 0.3357 - acc: 0.8644\n",
      "Epoch 64/100\n",
      "8000/8000 [==============================] - 0s 34us/sample - loss: 0.3351 - acc: 0.8660\n",
      "Epoch 65/100\n",
      "8000/8000 [==============================] - 0s 29us/sample - loss: 0.3349 - acc: 0.8645\n",
      "Epoch 66/100\n",
      "8000/8000 [==============================] - 0s 30us/sample - loss: 0.3351 - acc: 0.8648\n",
      "Epoch 67/100\n",
      "8000/8000 [==============================] - 0s 28us/sample - loss: 0.3351 - acc: 0.8636\n",
      "Epoch 68/100\n",
      "8000/8000 [==============================] - 0s 29us/sample - loss: 0.3354 - acc: 0.8641\n",
      "Epoch 69/100\n",
      "8000/8000 [==============================] - 0s 28us/sample - loss: 0.3346 - acc: 0.8658\n",
      "Epoch 70/100\n",
      "8000/8000 [==============================] - 0s 29us/sample - loss: 0.3348 - acc: 0.8646\n",
      "Epoch 71/100\n",
      "8000/8000 [==============================] - 0s 30us/sample - loss: 0.3341 - acc: 0.8652\n",
      "Epoch 72/100\n",
      "8000/8000 [==============================] - 0s 29us/sample - loss: 0.3346 - acc: 0.8643\n",
      "Epoch 73/100\n",
      "8000/8000 [==============================] - 0s 28us/sample - loss: 0.3338 - acc: 0.8654\n",
      "Epoch 74/100\n",
      "8000/8000 [==============================] - 0s 29us/sample - loss: 0.3341 - acc: 0.8640\n",
      "Epoch 75/100\n",
      "8000/8000 [==============================] - 0s 29us/sample - loss: 0.3345 - acc: 0.8652\n",
      "Epoch 76/100\n",
      "8000/8000 [==============================] - 0s 28us/sample - loss: 0.3342 - acc: 0.8648\n",
      "Epoch 77/100\n",
      "8000/8000 [==============================] - 0s 28us/sample - loss: 0.3344 - acc: 0.8644\n",
      "Epoch 78/100\n"
     ]
    },
    {
     "name": "stdout",
     "output_type": "stream",
     "text": [
      "8000/8000 [==============================] - 0s 28us/sample - loss: 0.3341 - acc: 0.8650\n",
      "Epoch 79/100\n",
      "8000/8000 [==============================] - 0s 28us/sample - loss: 0.3341 - acc: 0.8658\n",
      "Epoch 80/100\n",
      "8000/8000 [==============================] - 0s 29us/sample - loss: 0.3341 - acc: 0.8658\n",
      "Epoch 81/100\n",
      "8000/8000 [==============================] - 0s 28us/sample - loss: 0.3351 - acc: 0.8634\n",
      "Epoch 82/100\n",
      "8000/8000 [==============================] - 0s 27us/sample - loss: 0.3352 - acc: 0.8656\n",
      "Epoch 83/100\n",
      "8000/8000 [==============================] - 0s 28us/sample - loss: 0.3339 - acc: 0.8659\n",
      "Epoch 84/100\n",
      "8000/8000 [==============================] - 0s 28us/sample - loss: 0.3343 - acc: 0.8661\n",
      "Epoch 85/100\n",
      "8000/8000 [==============================] - 0s 28us/sample - loss: 0.3342 - acc: 0.8654\n",
      "Epoch 86/100\n",
      "8000/8000 [==============================] - 0s 29us/sample - loss: 0.3338 - acc: 0.8659\n",
      "Epoch 87/100\n",
      "8000/8000 [==============================] - 0s 31us/sample - loss: 0.3335 - acc: 0.8655\n",
      "Epoch 88/100\n",
      "8000/8000 [==============================] - 0s 27us/sample - loss: 0.3338 - acc: 0.8668\n",
      "Epoch 89/100\n",
      "8000/8000 [==============================] - 0s 28us/sample - loss: 0.3338 - acc: 0.8652\n",
      "Epoch 90/100\n",
      "8000/8000 [==============================] - 0s 27us/sample - loss: 0.3339 - acc: 0.8655\n",
      "Epoch 91/100\n",
      "8000/8000 [==============================] - 0s 27us/sample - loss: 0.3346 - acc: 0.8659\n",
      "Epoch 92/100\n",
      "8000/8000 [==============================] - 0s 27us/sample - loss: 0.3338 - acc: 0.8669\n",
      "Epoch 93/100\n",
      "8000/8000 [==============================] - 0s 28us/sample - loss: 0.3337 - acc: 0.8654\n",
      "Epoch 94/100\n",
      "8000/8000 [==============================] - 0s 28us/sample - loss: 0.3338 - acc: 0.8674\n",
      "Epoch 95/100\n",
      "8000/8000 [==============================] - 0s 28us/sample - loss: 0.3341 - acc: 0.8648\n",
      "Epoch 96/100\n",
      "8000/8000 [==============================] - 0s 27us/sample - loss: 0.3336 - acc: 0.8670\n",
      "Epoch 97/100\n",
      "8000/8000 [==============================] - 0s 28us/sample - loss: 0.3333 - acc: 0.8650\n",
      "Epoch 98/100\n",
      "8000/8000 [==============================] - 0s 29us/sample - loss: 0.3337 - acc: 0.8656\n",
      "Epoch 99/100\n",
      "8000/8000 [==============================] - 0s 28us/sample - loss: 0.3329 - acc: 0.8652\n",
      "Epoch 100/100\n",
      "8000/8000 [==============================] - 0s 27us/sample - loss: 0.3337 - acc: 0.8650\n"
     ]
    },
    {
     "data": {
      "text/plain": [
       "<tensorflow.python.keras.callbacks.History at 0x1facb08fac8>"
      ]
     },
     "execution_count": 20,
     "metadata": {},
     "output_type": "execute_result"
    }
   ],
   "source": [
    "ann.fit(X_train, y_train, batch_size = 32, epochs = 100)"
   ]
  },
  {
   "cell_type": "markdown",
   "metadata": {
    "colab_type": "text",
    "id": "tJj5k2MxZga3"
   },
   "source": [
    "## Part 4 - Making the predictions and evaluating the model"
   ]
  },
  {
   "cell_type": "markdown",
   "metadata": {
    "colab_type": "text",
    "id": "u7yx47jPZt11"
   },
   "source": [
    "### Predicting the Test set results"
   ]
  },
  {
   "cell_type": "code",
   "execution_count": 31,
   "metadata": {},
   "outputs": [
    {
     "name": "stdout",
     "output_type": "stream",
     "text": [
      "[[False]]\n"
     ]
    }
   ],
   "source": [
    "print(ann.predict(sc.transform([[1, 0, 0, 600, 1, 40, 3, 60000, 2, 1, 1, 50000]])) > 0.5) "
   ]
  },
  {
   "cell_type": "code",
   "execution_count": 33,
   "metadata": {},
   "outputs": [
    {
     "name": "stdout",
     "output_type": "stream",
     "text": [
      "[[0 0]\n",
      " [0 1]\n",
      " [0 0]\n",
      " ...\n",
      " [0 0]\n",
      " [0 0]\n",
      " [0 0]]\n"
     ]
    }
   ],
   "source": [
    "y_pred = ann.predict(X_test)\n",
    "y_pred = y_pred>0.5\n",
    "print(np.concatenate((y_pred.reshape(len(y_pred),1 ), y_test.reshape(len(y_test), 1)), 1))"
   ]
  },
  {
   "cell_type": "markdown",
   "metadata": {
    "colab_type": "text",
    "id": "o0oyfLWoaEGw"
   },
   "source": [
    "### Making the Confusion Matrix"
   ]
  },
  {
   "cell_type": "code",
   "execution_count": 34,
   "metadata": {},
   "outputs": [
    {
     "name": "stdout",
     "output_type": "stream",
     "text": [
      "[[1489  106]\n",
      " [ 175  230]]\n",
      "0.8595\n"
     ]
    }
   ],
   "source": [
    "from sklearn.metrics import confusion_matrix, accuracy_score\n",
    "cm = confusion_matrix(y_test, y_pred)\n",
    "print(cm)\n",
    "acc = accuracy_score(y_test, y_pred)\n",
    "print(acc)"
   ]
  },
  {
   "cell_type": "code",
   "execution_count": null,
   "metadata": {},
   "outputs": [],
   "source": []
  }
 ],
 "metadata": {
  "colab": {
   "authorship_tag": "ABX9TyMwbl0jJoa05wuIU59y39H3",
   "collapsed_sections": [],
   "name": "Artificial Neural Network",
   "provenance": []
  },
  "kernelspec": {
   "display_name": "Python 3",
   "language": "python",
   "name": "python3"
  },
  "language_info": {
   "codemirror_mode": {
    "name": "ipython",
    "version": 3
   },
   "file_extension": ".py",
   "mimetype": "text/x-python",
   "name": "python",
   "nbconvert_exporter": "python",
   "pygments_lexer": "ipython3",
   "version": "3.7.6"
  }
 },
 "nbformat": 4,
 "nbformat_minor": 1
}
